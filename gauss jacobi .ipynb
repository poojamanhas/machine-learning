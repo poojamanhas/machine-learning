{
  "nbformat": 4,
  "nbformat_minor": 0,
  "metadata": {
    "colab": {
      "name": "Untitled5.ipynb",
      "provenance": [],
      "collapsed_sections": [],
      "authorship_tag": "ABX9TyNCmzh7NEDzsC9uc3Ey+8Np",
      "include_colab_link": true
    },
    "kernelspec": {
      "name": "python3",
      "display_name": "Python 3"
    },
    "language_info": {
      "name": "python"
    }
  },
  "cells": [
    {
      "cell_type": "markdown",
      "metadata": {
        "id": "view-in-github",
        "colab_type": "text"
      },
      "source": [
        "<a href=\"https://colab.research.google.com/github/poojamanhas/machine-learning/blob/main/gauss%20jacobi%20.ipynb\" target=\"_parent\"><img src=\"https://colab.research.google.com/assets/colab-badge.svg\" alt=\"Open In Colab\"/></a>"
      ]
    },
    {
      "cell_type": "code",
      "execution_count": 1,
      "metadata": {
        "id": "u8xmLoMjnmk6"
      },
      "outputs": [],
      "source": [
        "# Gauss Seidel Iteration\n",
        "\n",
        "# Defining equations to be solved\n",
        "# in diagonally dominant form\n",
        "f1 = lambda x,y,z: (17-y+2*z)/20\n",
        "f2 = lambda x,y,z: (-18-3*x+z)/20\n",
        "f3 = lambda x,y,z: (25-2*x+3*y)/20"
      ]
    },
    {
      "cell_type": "code",
      "source": [
        "# Initial setup\n",
        "x0 = 0\n",
        "y0 = 0\n",
        "z0 = 0\n",
        "count = 1"
      ],
      "metadata": {
        "id": "8io_1BhJo_Oc"
      },
      "execution_count": 2,
      "outputs": []
    },
    {
      "cell_type": "code",
      "source": [
        "# Reading tolerable error\n",
        "e = float(input('Enter tolerable error: '))\n",
        "\n",
        "# Implementation of Gauss Seidel Iteration\n",
        "print('\\nCount\\tx\\ty\\tz\\n')\n"
      ],
      "metadata": {
        "colab": {
          "base_uri": "https://localhost:8080/"
        },
        "id": "Z7DrxIZKpKEb",
        "outputId": "612655f3-1a2c-490e-e730-2ce31336378f"
      },
      "execution_count": 3,
      "outputs": [
        {
          "output_type": "stream",
          "name": "stdout",
          "text": [
            "Enter tolerable error: 0.00001\n",
            "\n",
            "Count\tx\ty\tz\n",
            "\n"
          ]
        }
      ]
    },
    {
      "cell_type": "code",
      "source": [
        "condition = True\n",
        "\n",
        "while condition:\n",
        "    x1 = f1(x0,y0,z0)\n",
        "    y1 = f2(x1,y0,z0)\n",
        "    z1 = f3(x1,y1,z0)\n",
        "    print('%d\\t%0.4f\\t%0.4f\\t%0.4f\\n' %(count, x1,y1,z1))\n",
        "    e1 = abs(x0-x1);\n",
        "    e2 = abs(y0-y1);\n",
        "    e3 = abs(z0-z1);\n",
        "    \n",
        "    count += 1\n",
        "    x0 = x1\n",
        "    y0 = y1\n",
        "    z0 = z1\n",
        "    \n",
        "    condition = e1>e and e2>e and e3>e\n",
        "\n",
        "print('\\nSolution: x=%0.3f, y=%0.3f and z = %0.3f\\n'% (x1,y1,z1))"
      ],
      "metadata": {
        "colab": {
          "base_uri": "https://localhost:8080/"
        },
        "id": "N_4fKYwxphJ7",
        "outputId": "ac357180-3044-418d-ee9c-8cafe8c34f32"
      },
      "execution_count": 6,
      "outputs": [
        {
          "output_type": "stream",
          "name": "stdout",
          "text": [
            "1\t0.8500\t-1.0275\t1.0109\n",
            "\n",
            "2\t1.0025\t-0.9998\t0.9998\n",
            "\n",
            "3\t1.0000\t-1.0000\t1.0000\n",
            "\n",
            "4\t1.0000\t-1.0000\t1.0000\n",
            "\n",
            "\n",
            "Solution: x=1.000, y=-1.000 and z = 1.000\n",
            "\n"
          ]
        }
      ]
    },
    {
      "cell_type": "code",
      "source": [
        ""
      ],
      "metadata": {
        "id": "dxzYc6VRqvub"
      },
      "execution_count": null,
      "outputs": []
    }
  ]
}